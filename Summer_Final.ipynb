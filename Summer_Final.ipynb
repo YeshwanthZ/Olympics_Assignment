{
  "nbformat": 4,
  "nbformat_minor": 0,
  "metadata": {
    "kernelspec": {
      "display_name": "Python 2",
      "language": "python",
      "name": "python2"
    },
    "language_info": {
      "codemirror_mode": {
        "name": "ipython",
        "version": 2
      },
      "file_extension": ".py",
      "mimetype": "text/x-python",
      "name": "python",
      "nbconvert_exporter": "python",
      "pygments_lexer": "ipython2",
      "version": "2.7.16"
    },
    "colab": {
      "name": "Summer.ipynb",
      "provenance": []
    }
  },
  "cells": [
    {
      "cell_type": "markdown",
      "metadata": {
        "id": "N6v510yknfVq"
      },
      "source": [
        "# Summer Olympics Data Analysis Assignment"
      ]
    },
    {
      "cell_type": "markdown",
      "metadata": {
        "id": "iSlHtbLxnfV5"
      },
      "source": [
        "### 1. In how many cities Summer Olympics is held so far?"
      ]
    },
    {
      "cell_type": "code",
      "metadata": {
        "colab": {
          "base_uri": "https://localhost:8080/",
          "height": 204
        },
        "id": "scFm164NnfV8",
        "outputId": "10dcb7db-5cbb-412b-e5a1-9b276990ed78"
      },
      "source": [
        "import pandas as pd\n",
        "import matplotlib.pyplot as plt\n",
        "df=pd.read_csv('/content/summer.csv')\n",
        "df.head()"
      ],
      "execution_count": 68,
      "outputs": [
        {
          "output_type": "execute_result",
          "data": {
            "text/plain": [
              "   Year    City     Sport Discipline             Athlete Country Gender  \\\n",
              "0  1896  Athens  Aquatics   Swimming       HAJOS, Alfred     HUN    Men   \n",
              "1  1896  Athens  Aquatics   Swimming    HERSCHMANN, Otto     AUT    Men   \n",
              "2  1896  Athens  Aquatics   Swimming   DRIVAS, Dimitrios     GRE    Men   \n",
              "3  1896  Athens  Aquatics   Swimming  MALOKINIS, Ioannis     GRE    Men   \n",
              "4  1896  Athens  Aquatics   Swimming  CHASAPIS, Spiridon     GRE    Men   \n",
              "\n",
              "                        Event   Medal  \n",
              "0              100M Freestyle    Gold  \n",
              "1              100M Freestyle  Silver  \n",
              "2  100M Freestyle For Sailors  Bronze  \n",
              "3  100M Freestyle For Sailors    Gold  \n",
              "4  100M Freestyle For Sailors  Silver  "
            ],
            "text/html": [
              "<div>\n",
              "<style scoped>\n",
              "    .dataframe tbody tr th:only-of-type {\n",
              "        vertical-align: middle;\n",
              "    }\n",
              "\n",
              "    .dataframe tbody tr th {\n",
              "        vertical-align: top;\n",
              "    }\n",
              "\n",
              "    .dataframe thead th {\n",
              "        text-align: right;\n",
              "    }\n",
              "</style>\n",
              "<table border=\"1\" class=\"dataframe\">\n",
              "  <thead>\n",
              "    <tr style=\"text-align: right;\">\n",
              "      <th></th>\n",
              "      <th>Year</th>\n",
              "      <th>City</th>\n",
              "      <th>Sport</th>\n",
              "      <th>Discipline</th>\n",
              "      <th>Athlete</th>\n",
              "      <th>Country</th>\n",
              "      <th>Gender</th>\n",
              "      <th>Event</th>\n",
              "      <th>Medal</th>\n",
              "    </tr>\n",
              "  </thead>\n",
              "  <tbody>\n",
              "    <tr>\n",
              "      <th>0</th>\n",
              "      <td>1896</td>\n",
              "      <td>Athens</td>\n",
              "      <td>Aquatics</td>\n",
              "      <td>Swimming</td>\n",
              "      <td>HAJOS, Alfred</td>\n",
              "      <td>HUN</td>\n",
              "      <td>Men</td>\n",
              "      <td>100M Freestyle</td>\n",
              "      <td>Gold</td>\n",
              "    </tr>\n",
              "    <tr>\n",
              "      <th>1</th>\n",
              "      <td>1896</td>\n",
              "      <td>Athens</td>\n",
              "      <td>Aquatics</td>\n",
              "      <td>Swimming</td>\n",
              "      <td>HERSCHMANN, Otto</td>\n",
              "      <td>AUT</td>\n",
              "      <td>Men</td>\n",
              "      <td>100M Freestyle</td>\n",
              "      <td>Silver</td>\n",
              "    </tr>\n",
              "    <tr>\n",
              "      <th>2</th>\n",
              "      <td>1896</td>\n",
              "      <td>Athens</td>\n",
              "      <td>Aquatics</td>\n",
              "      <td>Swimming</td>\n",
              "      <td>DRIVAS, Dimitrios</td>\n",
              "      <td>GRE</td>\n",
              "      <td>Men</td>\n",
              "      <td>100M Freestyle For Sailors</td>\n",
              "      <td>Bronze</td>\n",
              "    </tr>\n",
              "    <tr>\n",
              "      <th>3</th>\n",
              "      <td>1896</td>\n",
              "      <td>Athens</td>\n",
              "      <td>Aquatics</td>\n",
              "      <td>Swimming</td>\n",
              "      <td>MALOKINIS, Ioannis</td>\n",
              "      <td>GRE</td>\n",
              "      <td>Men</td>\n",
              "      <td>100M Freestyle For Sailors</td>\n",
              "      <td>Gold</td>\n",
              "    </tr>\n",
              "    <tr>\n",
              "      <th>4</th>\n",
              "      <td>1896</td>\n",
              "      <td>Athens</td>\n",
              "      <td>Aquatics</td>\n",
              "      <td>Swimming</td>\n",
              "      <td>CHASAPIS, Spiridon</td>\n",
              "      <td>GRE</td>\n",
              "      <td>Men</td>\n",
              "      <td>100M Freestyle For Sailors</td>\n",
              "      <td>Silver</td>\n",
              "    </tr>\n",
              "  </tbody>\n",
              "</table>\n",
              "</div>"
            ]
          },
          "metadata": {},
          "execution_count": 68
        }
      ]
    },
    {
      "cell_type": "code",
      "metadata": {
        "colab": {
          "base_uri": "https://localhost:8080/"
        },
        "id": "wo-HmtSgoIA6",
        "outputId": "873853d0-33fe-4891-9e47-7b3070e856be"
      },
      "source": [
        "#print(df['City'].unique())\n",
        "print 'Summer Olympics was held in',len(df['City'].unique()),'cities'"
      ],
      "execution_count": 91,
      "outputs": [
        {
          "output_type": "stream",
          "name": "stdout",
          "text": [
            "Summer Olympics was held in 22 cities\n"
          ]
        }
      ]
    },
    {
      "cell_type": "markdown",
      "metadata": {
        "id": "la3SYy4anfV9"
      },
      "source": [
        "### 2. Which sport is having most number of Gold Medals so far? (Top 5)"
      ]
    },
    {
      "cell_type": "code",
      "metadata": {
        "colab": {
          "base_uri": "https://localhost:8080/",
          "height": 511
        },
        "id": "66Lk-Q8vnfV-",
        "outputId": "fff5a309-fa11-4b72-8595-fe45f68d264f"
      },
      "source": [
        "medal_lst=[]\n",
        "for sport in df['Sport'].unique():\n",
        "  medal_lst.append([ sport,len(df[ (df.Sport==sport) & (df.Medal=='Gold')  ]) ])\n",
        "gldmedal_by_sport_df=pd.DataFrame(medal_lst,columns=['Sport','Gold Medals'])\n",
        "gldmedal_by_sport_df=gldmedal_by_sport_df.sort_values(by='Gold Medals',ascending=False).head()\n",
        "gldmedal_by_sport_df.plot(x='Sport',y='Gold Medals',kind='bar',figsize=(7,7))"
      ],
      "execution_count": 75,
      "outputs": [
        {
          "output_type": "execute_result",
          "data": {
            "text/plain": [
              "<matplotlib.axes._subplots.AxesSubplot at 0x7fa1b2243fd0>"
            ]
          },
          "metadata": {},
          "execution_count": 75
        },
        {
          "output_type": "display_data",
          "data": {
            "image/png": "[encoded data removed]",
            "text/plain": [
              "<Figure size 504x504 with 1 Axes>"
            ]
          },
          "metadata": {
            "needs_background": "light"
          }
        }
      ]
    },
    {
      "cell_type": "markdown",
      "metadata": {
        "id": "OafVNnzOnfV_"
      },
      "source": [
        "### 3. Which sport is having most number of medals so far? (Top 5)"
      ]
    },
    {
      "cell_type": "code",
      "metadata": {
        "colab": {
          "base_uri": "https://localhost:8080/",
          "height": 511
        },
        "id": "69N6rkPfnfV_",
        "outputId": "a853d434-a7b1-4099-d657-84c874835c94"
      },
      "source": [
        "medal_counts=[]\n",
        "for sport in df['Sport'].unique():\n",
        "  medal_counts.append([sport,len(df[df['Sport']==sport].Medal)])\n",
        "medal_counts_df=pd.DataFrame(medal_counts,columns=['Sport','Nmedals'])\n",
        "medal_counts_df=medal_counts_df.sort_values(by='Nmedals',ascending=False).head()\n",
        "#print(medal_counts_df.head())\n",
        "medal_counts_df.plot(x='Sport',y='Nmedals',kind='bar',figsize=(7,7))"
      ],
      "execution_count": 30,
      "outputs": [
        {
          "output_type": "execute_result",
          "data": {
            "text/plain": [
              "<matplotlib.axes._subplots.AxesSubplot at 0x7fa1b568ebd0>"
            ]
          },
          "metadata": {},
          "execution_count": 30
        },
        {
          "output_type": "display_data",
          "data": {
            "image/png": "[encoded data removed]",
            "text/plain": [
              "<Figure size 504x504 with 1 Axes>"
            ]
          },
          "metadata": {
            "needs_background": "light"
          }
        }
      ]
    },
    {
      "cell_type": "markdown",
      "metadata": {
        "id": "hml5xEBFnfWA"
      },
      "source": [
        "### 4. Which player has won most number of medals? (Top 5)"
      ]
    },
    {
      "cell_type": "code",
      "metadata": {
        "colab": {
          "base_uri": "https://localhost:8080/",
          "height": 570
        },
        "id": "Ch84vvYLnfWB",
        "outputId": "4587cfc6-3d28-48f5-cd66-dda3d5fa7472"
      },
      "source": [
        "medals_by_ath=[]\n",
        "for athlete in df['Athlete'].unique():\n",
        "  medals_by_ath.append([athlete,len(df[df['Athlete']==athlete].Medal)])\n",
        "medal_by_ath_df=pd.DataFrame(medals_by_ath,columns=['Athlete','Nmedals'])\n",
        "medal_by_ath_df=medal_by_ath_df.sort_values(by='Nmedals',ascending=False).head()\n",
        "medal_by_ath_df.plot(x='Athlete',y='Nmedals',kind='bar',figsize=(7,7))\n"
      ],
      "execution_count": 32,
      "outputs": [
        {
          "output_type": "execute_result",
          "data": {
            "text/plain": [
              "<matplotlib.axes._subplots.AxesSubplot at 0x7fa1b6970290>"
            ]
          },
          "metadata": {},
          "execution_count": 32
        },
        {
          "output_type": "display_data",
          "data": {
            "image/png": "[encoded data removed]",
            "text/plain": [
              "<Figure size 504x504 with 1 Axes>"
            ]
          },
          "metadata": {
            "needs_background": "light"
          }
        }
      ]
    },
    {
      "cell_type": "markdown",
      "metadata": {
        "id": "FaaNfKePnfWB"
      },
      "source": [
        "### 5. Which player has won most number Gold Medals of medals? (Top 5)"
      ]
    },
    {
      "cell_type": "code",
      "metadata": {
        "colab": {
          "base_uri": "https://localhost:8080/",
          "height": 538
        },
        "id": "4DOjdcoSnfWD",
        "outputId": "0d2381fc-7e3f-49d9-e639-cf120d3d98e2"
      },
      "source": [
        "gold_medals_by_ath=[]\n",
        "for athlete in df['Athlete'].unique():\n",
        "  gold_medals_by_ath.append([athlete,len(df[(df.Athlete==athlete) & (df.Medal=='Gold')].Medal)])\n",
        "gold_medal_by_ath_df=pd.DataFrame(gold_medals_by_ath,columns=['Athlete','Gold_Medals'])\n",
        "gold_medal_by_ath_df=gold_medal_by_ath_df.sort_values(by='Gold_Medals',ascending=False).head()\n",
        "gold_medal_by_ath_df.plot(x='Athlete',y='Gold_Medals',kind='bar',figsize=(7,7))"
      ],
      "execution_count": 82,
      "outputs": [
        {
          "output_type": "execute_result",
          "data": {
            "text/plain": [
              "<matplotlib.axes._subplots.AxesSubplot at 0x7fa1b2738e50>"
            ]
          },
          "metadata": {},
          "execution_count": 82
        },
        {
          "output_type": "display_data",
          "data": {
            "image/png": "[encoded data removed]",
            "text/plain": [
              "<Figure size 504x504 with 1 Axes>"
            ]
          },
          "metadata": {
            "needs_background": "light"
          }
        }
      ]
    },
    {
      "cell_type": "markdown",
      "metadata": {
        "id": "XtwiwkyunfWD"
      },
      "source": [
        "### 6. In which year India won first Gold Medal in Summer Olympics?"
      ]
    },
    {
      "cell_type": "code",
      "metadata": {
        "colab": {
          "base_uri": "https://localhost:8080/"
        },
        "id": "cdVZghLGnfWE",
        "outputId": "f9a09b1c-8db2-4274-fabb-462774f11ffc"
      },
      "source": [
        "ind_medals_lst=[]\n",
        "df1=df[(df['Country']=='IND') & (df.Medal=='Gold')]['Year']\n",
        "df1=df1.sort_values()\n",
        "#print(df1.head(1)) \n",
        "print 'India won its first gold medal in',df1[5512]"
      ],
      "execution_count": 90,
      "outputs": [
        {
          "output_type": "stream",
          "name": "stdout",
          "text": [
            "India won its first gold medal in 1928\n"
          ]
        }
      ]
    },
    {
      "cell_type": "markdown",
      "metadata": {
        "id": "FU3kviQBnfWF"
      },
      "source": [
        "### 7. Which event is most popular in terms on number of players? (Top 5)"
      ]
    },
    {
      "cell_type": "code",
      "metadata": {
        "colab": {
          "base_uri": "https://localhost:8080/",
          "height": 599
        },
        "id": "-czVDnjfnfWG",
        "outputId": "06e698bf-a139-4bbc-c10f-6dd4e626f2c0"
      },
      "source": [
        "event_lst=[]\n",
        "for event in df['Event'].unique():\n",
        "  event_lst.append([ event,len(df[df.Event==event].Athlete) ])\n",
        "event_df=pd.DataFrame(event_lst,columns=['Event','Number_of_Athletes'])\n",
        "event_df=event_df.sort_values(by='Number_of_Athletes',ascending=False).head()\n",
        "event_df.plot(x='Event',y='Number_of_Athletes',kind='bar',figsize=(8,8),color='Green')"
      ],
      "execution_count": 87,
      "outputs": [
        {
          "output_type": "execute_result",
          "data": {
            "text/plain": [
              "<matplotlib.axes._subplots.AxesSubplot at 0x7fa1b1fc9790>"
            ]
          },
          "metadata": {},
          "execution_count": 87
        },
        {
          "output_type": "display_data",
          "data": {
            "image/png": "[encoded data removed]",
            "text/plain": [
              "<Figure size 576x576 with 1 Axes>"
            ]
          },
          "metadata": {
            "needs_background": "light"
          }
        }
      ]
    },
    {
      "cell_type": "markdown",
      "metadata": {
        "id": "CHZVMoyWnfWH"
      },
      "source": [
        "### 8. Which sport is having most female Gold Medalists? (Top 5)"
      ]
    },
    {
      "cell_type": "code",
      "metadata": {
        "colab": {
          "base_uri": "https://localhost:8080/",
          "height": 511
        },
        "id": "g5VuPZkFnfWI",
        "outputId": "f2466886-9f97-48e7-f833-ff0cf3959d5f"
      },
      "source": [
        "fem_gold_lst=[]\n",
        "for sport in df.Sport.unique():\n",
        "  fem_gold_lst.append([sport,len(df[ (df.Sport==sport) & (df.Gender=='Women') & (df.Medal=='Gold') ])])\n",
        "fem_gold_df=pd.DataFrame(fem_gold_lst,columns=['Sport','Female Gold Medalists'])\n",
        "fem_gold_df=fem_gold_df.sort_values(by='Female Gold Medalists',ascending=False).head()\n",
        "fem_gold_df.plot(x='Sport',y='Female Gold Medalists',kind='bar',figsize=(7,7),color='Blue')"
      ],
      "execution_count": 88,
      "outputs": [
        {
          "output_type": "execute_result",
          "data": {
            "text/plain": [
              "<matplotlib.axes._subplots.AxesSubplot at 0x7fa1b1e7bfd0>"
            ]
          },
          "metadata": {},
          "execution_count": 88
        },
        {
          "output_type": "display_data",
          "data": {
            "image/png": "[encoded data removed]",
            "text/plain": [
              "<Figure size 504x504 with 1 Axes>"
            ]
          },
          "metadata": {
            "needs_background": "light"
          }
        }
      ]
    }
  ]
}